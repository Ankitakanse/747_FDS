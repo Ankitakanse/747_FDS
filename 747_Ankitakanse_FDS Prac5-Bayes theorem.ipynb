{
 "cells": [
  {
   "cell_type": "markdown",
   "id": "330a41ae",
   "metadata": {},
   "source": [
    "# Bayes Law using total law of probability"
   ]
  },
  {
   "cell_type": "code",
   "execution_count": 3,
   "id": "61b1394d",
   "metadata": {},
   "outputs": [],
   "source": [
    "# example 1:\n",
    "# \n"
   ]
  },
  {
   "cell_type": "code",
   "execution_count": null,
   "id": "61ffd849",
   "metadata": {},
   "outputs": [],
   "source": []
  }
 ],
 "metadata": {
  "kernelspec": {
   "display_name": "Python 3 (ipykernel)",
   "language": "python",
   "name": "python3"
  },
  "language_info": {
   "codemirror_mode": {
    "name": "ipython",
    "version": 3
   },
   "file_extension": ".py",
   "mimetype": "text/x-python",
   "name": "python",
   "nbconvert_exporter": "python",
   "pygments_lexer": "ipython3",
   "version": "3.9.7"
  }
 },
 "nbformat": 4,
 "nbformat_minor": 5
}
