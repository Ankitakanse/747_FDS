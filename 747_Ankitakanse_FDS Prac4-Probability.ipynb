{
 "cells": [
  {
   "cell_type": "markdown",
   "id": "fe710dd3",
   "metadata": {},
   "source": [
    "# Probability"
   ]
  },
  {
   "cell_type": "code",
   "execution_count": 1,
   "id": "64d2de42",
   "metadata": {},
   "outputs": [
    {
     "name": "stdout",
     "output_type": "stream",
     "text": [
      "probability of getting 3 is :  0.16666666666666666\n"
     ]
    }
   ],
   "source": [
    "#probability of getting 3 when a die is rolled\n",
    "ns = 6 #n(s) = {1,2,3,4,5,6}no. of sample space\n",
    "na = 1 #n(a) = {3}no. of prefered outcome\n",
    "pa = na/ns # p(a)\n",
    "print(\"probability of getting 3 is : \" , pa)\n"
   ]
  },
  {
   "cell_type": "code",
   "execution_count": 2,
   "id": "dc30e5ea",
   "metadata": {},
   "outputs": [
    {
     "name": "stdout",
     "output_type": "stream",
     "text": [
      "probability of atleast getting one head when a coin is tossed thrice :  0.875\n"
     ]
    }
   ],
   "source": [
    "#probability of atleast getting one head when a coin is tossed thrice\n",
    "ns = 8 #n(s) = {hhh,thh,hth,hht,ttt,htt,tht,tth}no. of sample space\n",
    "na = 7 #n(a) = {hhh,thh,hth,hht,htt,tht,tth}no. of prefered outcome\n",
    "pa = na/ns # p(a)\n",
    "print(\"probability of atleast getting one head when a coin is tossed thrice : \" , pa)\n"
   ]
  },
  {
   "cell_type": "code",
   "execution_count": 3,
   "id": "b74bc4f7",
   "metadata": {},
   "outputs": [
    {
     "name": "stdout",
     "output_type": "stream",
     "text": [
      "probability that it is not a blue bean :  0.7\n"
     ]
    }
   ],
   "source": [
    "# A glass jar contains 5 red ,3 blue & 2 green jelly beans. \n",
    "# if the jelly bean is chosen at random from the jar,\n",
    "# what is the probability that it is not blue? \n",
    "ns = 10 #n(s) no. of sample space = total no. of jelly\n",
    "na = 7 #n(a) no. of prefered outcome = total jellies which are not blue\n",
    "pa = na/ns # p(a)\n",
    "print(\"probability that it is not a blue bean : \" , pa)"
   ]
  },
  {
   "cell_type": "code",
   "execution_count": 4,
   "id": "1ba27708",
   "metadata": {},
   "outputs": [
    {
     "name": "stdout",
     "output_type": "stream",
     "text": [
      "probability that both will be alive in 20 years is :  0.35\n"
     ]
    }
   ],
   "source": [
    "#If the probability that A will be alive in 20 years is 0.7 and the probability that B will be alive in 20 years is 0.5.\n",
    "#What is the probability that both will be alive in 20 years?\n",
    "#these are independent events, so\n",
    "p=0.7*0.5\n",
    "print(\"probability that both will be alive in 20 years is : \" ,p )"
   ]
  },
  {
   "cell_type": "code",
   "execution_count": 5,
   "id": "76dbd634",
   "metadata": {},
   "outputs": [],
   "source": [
    "# probability to find probability\n",
    "def event_probability(n,s):\n",
    "    return n/s"
   ]
  },
  {
   "cell_type": "code",
   "execution_count": 6,
   "id": "113d5af7",
   "metadata": {},
   "outputs": [
    {
     "name": "stdout",
     "output_type": "stream",
     "text": [
      "prob. of getting a 4 or 5 on the first toss & a 1,2 or 3 in second toss.:  0.16666666666666666\n"
     ]
    }
   ],
   "source": [
    "# A fair die is tossed twice. Find the prob. of getting a 4 or 5 on the first toss & a 1,2 or 3 in second toss.\n",
    "pa = event_probability(2,6) \n",
    "pb = event_probability(3,6)\n",
    "p = pa*pb # this two are independent event\n",
    "print(\"prob. of getting a 4 or 5 on the first toss & a 1,2 or 3 in second toss.: \" , p)"
   ]
  },
  {
   "cell_type": "code",
   "execution_count": 7,
   "id": "57b6edf7",
   "metadata": {},
   "outputs": [
    {
     "name": "stdout",
     "output_type": "stream",
     "text": [
      "probability of obtaining white,black and green in that order is :  0.041666666666666664\n"
     ]
    }
   ],
   "source": [
    "# A bag contain 5 white marbles, 3 balck marbles & 2 green marbles. \n",
    "# In each draw, a marble is drawn from the bag and not replaced. \n",
    "# In three draws, find the probability of obtaining \n",
    "# white,black and green in that order\n",
    "pw = event_probability(5,10) \n",
    "pb = event_probability(3,9) \n",
    "pg = event_probability(2,8)\n",
    "print(\"probability of obtaining white,black and green in that order is : \" , (pw*pb*pg))\n"
   ]
  },
  {
   "cell_type": "code",
   "execution_count": 8,
   "id": "d204418a",
   "metadata": {},
   "outputs": [
    {
     "name": "stdout",
     "output_type": "stream",
     "text": [
      "0.5\n"
     ]
    }
   ],
   "source": [
    "# sample space\n",
    "cards = 52\n",
    "\n",
    "# calculate the probability of heart or a club\n",
    "hearts = 13\n",
    "clubs = 13\n",
    "heart_or_club = event_probability(hearts,cards) + event_probability(clubs,cards)\n",
    "print(heart_or_club)"
   ]
  },
  {
   "cell_type": "code",
   "execution_count": 9,
   "id": "e77fb8b5",
   "metadata": {},
   "outputs": [
    {
     "name": "stdout",
     "output_type": "stream",
     "text": [
      "0.23076923076923078\n"
     ]
    }
   ],
   "source": [
    "# calculate the probability of drawing an ace, king or a queen\n",
    "\n",
    "aces = 4\n",
    "kings = 4\n",
    "queens = 4\n",
    "ace_king_or_queen = event_probability(aces,cards) + event_probability(kings,cards) + event_probability(queens,cards) \n",
    "print(ace_king_or_queen)"
   ]
  },
  {
   "cell_type": "code",
   "execution_count": 10,
   "id": "c7aff70a",
   "metadata": {},
   "outputs": [
    {
     "name": "stdout",
     "output_type": "stream",
     "text": [
      "0.3\n"
     ]
    }
   ],
   "source": [
    "# calculate the probability of heart or an ace\n",
    "hearts = 13\n",
    "aces = 4\n",
    "ace_of_hearts = 1\n",
    "heart_or_ace = event_probability(hearts,cards) + event_probability(aces,cards) - event_probability(ace_of_hearts,cards)\n",
    "print(round(heart_or_ace,1))"
   ]
  },
  {
   "cell_type": "code",
   "execution_count": 11,
   "id": "61925c57",
   "metadata": {},
   "outputs": [
    {
     "name": "stdout",
     "output_type": "stream",
     "text": [
      "0.6\n"
     ]
    }
   ],
   "source": [
    "#calculate the probability of drawing red cards or face cards\n",
    "\n",
    "red_cards = 26\n",
    "face_cards = 12\n",
    "red_face_cards = 6\n",
    "red_or_face_cards =  event_probability(red_cards,cards) + event_probability(face_cards,cards) - event_probability(red_face_cards,cards) \n",
    "print(round(red_or_face_cards,1))\n"
   ]
  },
  {
   "cell_type": "code",
   "execution_count": 12,
   "id": "cde393e6",
   "metadata": {},
   "outputs": [
    {
     "name": "stdout",
     "output_type": "stream",
     "text": [
      "probability of getting 5 is :  0.8333333333333334\n"
     ]
    }
   ],
   "source": [
    "#probability of not getting 5 when a die is rolled\n",
    "ns = 6 #n(s) = {1,2,3,4,5,6}no. of sample space\n",
    "na = 1 #n(a) = {3}no. of prefered outcome\n",
    "pa = na/ns # p(a)\n",
    "print(\"probability of getting 5 is : \" , 1-pa)\n"
   ]
  },
  {
   "cell_type": "markdown",
   "id": "2d18b97d",
   "metadata": {},
   "source": [
    "# Conditional Probability"
   ]
  },
  {
   "cell_type": "code",
   "execution_count": 13,
   "id": "931cb21d",
   "metadata": {},
   "outputs": [
    {
     "name": "stdout",
     "output_type": "stream",
     "text": [
      "0.0784313725490196\n"
     ]
    }
   ],
   "source": [
    "#suppose you draw 2 cards from deck.\n",
    "#you win if you get ace given that you draw a jack in first draw\n",
    "cards = 52\n",
    "j = 4\n",
    "ace = 4\n",
    "pj = event_probability(j,52) \n",
    "pa = event_probability(ace,51)\n",
    "pa_given_j=(pj*pa)/pj\n",
    "print(pa_given_j)\n"
   ]
  },
  {
   "cell_type": "code",
   "execution_count": 19,
   "id": "f2263371",
   "metadata": {},
   "outputs": [
    {
     "data": {
      "text/html": [
       "<div>\n",
       "<style scoped>\n",
       "    .dataframe tbody tr th:only-of-type {\n",
       "        vertical-align: middle;\n",
       "    }\n",
       "\n",
       "    .dataframe tbody tr th {\n",
       "        vertical-align: top;\n",
       "    }\n",
       "\n",
       "    .dataframe thead th {\n",
       "        text-align: right;\n",
       "    }\n",
       "</style>\n",
       "<table border=\"1\" class=\"dataframe\">\n",
       "  <thead>\n",
       "    <tr style=\"text-align: right;\">\n",
       "      <th></th>\n",
       "      <th>school</th>\n",
       "      <th>sex</th>\n",
       "      <th>age</th>\n",
       "      <th>address</th>\n",
       "      <th>famsize</th>\n",
       "      <th>Pstatus</th>\n",
       "      <th>Medu</th>\n",
       "      <th>Fedu</th>\n",
       "      <th>Mjob</th>\n",
       "      <th>Fjob</th>\n",
       "      <th>...</th>\n",
       "      <th>famrel</th>\n",
       "      <th>freetime</th>\n",
       "      <th>goout</th>\n",
       "      <th>Dalc</th>\n",
       "      <th>Walc</th>\n",
       "      <th>health</th>\n",
       "      <th>absences</th>\n",
       "      <th>G1</th>\n",
       "      <th>G2</th>\n",
       "      <th>G3</th>\n",
       "    </tr>\n",
       "  </thead>\n",
       "  <tbody>\n",
       "    <tr>\n",
       "      <th>0</th>\n",
       "      <td>GP</td>\n",
       "      <td>F</td>\n",
       "      <td>18</td>\n",
       "      <td>U</td>\n",
       "      <td>GT3</td>\n",
       "      <td>A</td>\n",
       "      <td>4</td>\n",
       "      <td>4</td>\n",
       "      <td>at_home</td>\n",
       "      <td>teacher</td>\n",
       "      <td>...</td>\n",
       "      <td>4</td>\n",
       "      <td>3</td>\n",
       "      <td>4</td>\n",
       "      <td>1</td>\n",
       "      <td>1</td>\n",
       "      <td>3</td>\n",
       "      <td>6</td>\n",
       "      <td>5</td>\n",
       "      <td>6</td>\n",
       "      <td>6</td>\n",
       "    </tr>\n",
       "    <tr>\n",
       "      <th>1</th>\n",
       "      <td>GP</td>\n",
       "      <td>F</td>\n",
       "      <td>17</td>\n",
       "      <td>U</td>\n",
       "      <td>GT3</td>\n",
       "      <td>T</td>\n",
       "      <td>1</td>\n",
       "      <td>1</td>\n",
       "      <td>at_home</td>\n",
       "      <td>other</td>\n",
       "      <td>...</td>\n",
       "      <td>5</td>\n",
       "      <td>3</td>\n",
       "      <td>3</td>\n",
       "      <td>1</td>\n",
       "      <td>1</td>\n",
       "      <td>3</td>\n",
       "      <td>4</td>\n",
       "      <td>5</td>\n",
       "      <td>5</td>\n",
       "      <td>6</td>\n",
       "    </tr>\n",
       "    <tr>\n",
       "      <th>2</th>\n",
       "      <td>GP</td>\n",
       "      <td>F</td>\n",
       "      <td>15</td>\n",
       "      <td>U</td>\n",
       "      <td>LE3</td>\n",
       "      <td>T</td>\n",
       "      <td>1</td>\n",
       "      <td>1</td>\n",
       "      <td>at_home</td>\n",
       "      <td>other</td>\n",
       "      <td>...</td>\n",
       "      <td>4</td>\n",
       "      <td>3</td>\n",
       "      <td>2</td>\n",
       "      <td>2</td>\n",
       "      <td>3</td>\n",
       "      <td>3</td>\n",
       "      <td>10</td>\n",
       "      <td>7</td>\n",
       "      <td>8</td>\n",
       "      <td>10</td>\n",
       "    </tr>\n",
       "  </tbody>\n",
       "</table>\n",
       "<p>3 rows × 33 columns</p>\n",
       "</div>"
      ],
      "text/plain": [
       "  school sex  age address famsize Pstatus  Medu  Fedu     Mjob     Fjob  ...  \\\n",
       "0     GP   F   18       U     GT3       A     4     4  at_home  teacher  ...   \n",
       "1     GP   F   17       U     GT3       T     1     1  at_home    other  ...   \n",
       "2     GP   F   15       U     LE3       T     1     1  at_home    other  ...   \n",
       "\n",
       "  famrel freetime  goout  Dalc  Walc health absences G1 G2  G3  \n",
       "0      4        3      4     1     1      3        6  5  6   6  \n",
       "1      5        3      3     1     1      3        4  5  5   6  \n",
       "2      4        3      2     2     3      3       10  7  8  10  \n",
       "\n",
       "[3 rows x 33 columns]"
      ]
     },
     "execution_count": 19,
     "metadata": {},
     "output_type": "execute_result"
    }
   ],
   "source": [
    "import numpy as np\n",
    "import pandas as pd\n",
    "df=pd.read_csv(\"student-mat - student-mat.csv\")\n",
    "df.head(3)"
   ]
  },
  {
   "cell_type": "code",
   "execution_count": 20,
   "id": "bb56cc71",
   "metadata": {},
   "outputs": [
    {
     "data": {
      "text/plain": [
       "395"
      ]
     },
     "execution_count": 20,
     "metadata": {},
     "output_type": "execute_result"
    }
   ],
   "source": [
    "len(df)"
   ]
  },
  {
   "cell_type": "code",
   "execution_count": 21,
   "id": "93d152ed",
   "metadata": {},
   "outputs": [
    {
     "data": {
      "text/html": [
       "<div>\n",
       "<style scoped>\n",
       "    .dataframe tbody tr th:only-of-type {\n",
       "        vertical-align: middle;\n",
       "    }\n",
       "\n",
       "    .dataframe tbody tr th {\n",
       "        vertical-align: top;\n",
       "    }\n",
       "\n",
       "    .dataframe thead th {\n",
       "        text-align: right;\n",
       "    }\n",
       "</style>\n",
       "<table border=\"1\" class=\"dataframe\">\n",
       "  <thead>\n",
       "    <tr style=\"text-align: right;\">\n",
       "      <th></th>\n",
       "      <th>school</th>\n",
       "      <th>sex</th>\n",
       "      <th>age</th>\n",
       "      <th>address</th>\n",
       "      <th>famsize</th>\n",
       "      <th>Pstatus</th>\n",
       "      <th>Medu</th>\n",
       "      <th>Fedu</th>\n",
       "      <th>Mjob</th>\n",
       "      <th>Fjob</th>\n",
       "      <th>...</th>\n",
       "      <th>famrel</th>\n",
       "      <th>freetime</th>\n",
       "      <th>goout</th>\n",
       "      <th>Dalc</th>\n",
       "      <th>Walc</th>\n",
       "      <th>health</th>\n",
       "      <th>absences</th>\n",
       "      <th>G1</th>\n",
       "      <th>G2</th>\n",
       "      <th>G3</th>\n",
       "    </tr>\n",
       "  </thead>\n",
       "  <tbody>\n",
       "    <tr>\n",
       "      <th>392</th>\n",
       "      <td>MS</td>\n",
       "      <td>M</td>\n",
       "      <td>21</td>\n",
       "      <td>R</td>\n",
       "      <td>GT3</td>\n",
       "      <td>T</td>\n",
       "      <td>1</td>\n",
       "      <td>1</td>\n",
       "      <td>other</td>\n",
       "      <td>other</td>\n",
       "      <td>...</td>\n",
       "      <td>5</td>\n",
       "      <td>5</td>\n",
       "      <td>3</td>\n",
       "      <td>3</td>\n",
       "      <td>3</td>\n",
       "      <td>3</td>\n",
       "      <td>3</td>\n",
       "      <td>10</td>\n",
       "      <td>8</td>\n",
       "      <td>7</td>\n",
       "    </tr>\n",
       "    <tr>\n",
       "      <th>393</th>\n",
       "      <td>MS</td>\n",
       "      <td>M</td>\n",
       "      <td>18</td>\n",
       "      <td>R</td>\n",
       "      <td>LE3</td>\n",
       "      <td>T</td>\n",
       "      <td>3</td>\n",
       "      <td>2</td>\n",
       "      <td>services</td>\n",
       "      <td>other</td>\n",
       "      <td>...</td>\n",
       "      <td>4</td>\n",
       "      <td>4</td>\n",
       "      <td>1</td>\n",
       "      <td>3</td>\n",
       "      <td>4</td>\n",
       "      <td>5</td>\n",
       "      <td>0</td>\n",
       "      <td>11</td>\n",
       "      <td>12</td>\n",
       "      <td>10</td>\n",
       "    </tr>\n",
       "    <tr>\n",
       "      <th>394</th>\n",
       "      <td>MS</td>\n",
       "      <td>M</td>\n",
       "      <td>19</td>\n",
       "      <td>U</td>\n",
       "      <td>LE3</td>\n",
       "      <td>T</td>\n",
       "      <td>1</td>\n",
       "      <td>1</td>\n",
       "      <td>other</td>\n",
       "      <td>at_home</td>\n",
       "      <td>...</td>\n",
       "      <td>3</td>\n",
       "      <td>2</td>\n",
       "      <td>3</td>\n",
       "      <td>3</td>\n",
       "      <td>3</td>\n",
       "      <td>5</td>\n",
       "      <td>5</td>\n",
       "      <td>8</td>\n",
       "      <td>9</td>\n",
       "      <td>9</td>\n",
       "    </tr>\n",
       "  </tbody>\n",
       "</table>\n",
       "<p>3 rows × 33 columns</p>\n",
       "</div>"
      ],
      "text/plain": [
       "    school sex  age address famsize Pstatus  Medu  Fedu      Mjob     Fjob  \\\n",
       "392     MS   M   21       R     GT3       T     1     1     other    other   \n",
       "393     MS   M   18       R     LE3       T     3     2  services    other   \n",
       "394     MS   M   19       U     LE3       T     1     1     other  at_home   \n",
       "\n",
       "     ... famrel freetime  goout  Dalc  Walc health absences  G1  G2  G3  \n",
       "392  ...      5        5      3     3     3      3        3  10   8   7  \n",
       "393  ...      4        4      1     3     4      5        0  11  12  10  \n",
       "394  ...      3        2      3     3     3      5        5   8   9   9  \n",
       "\n",
       "[3 rows x 33 columns]"
      ]
     },
     "execution_count": 21,
     "metadata": {},
     "output_type": "execute_result"
    }
   ],
   "source": [
    "df.tail(3)"
   ]
  },
  {
   "cell_type": "code",
   "execution_count": null,
   "id": "a7e4fa4d",
   "metadata": {},
   "outputs": [],
   "source": [
    "#calculate The probability a student get an A(80% +)in maths, given they miss 10 or more classes."
   ]
  },
  {
   "cell_type": "code",
   "execution_count": 27,
   "id": "9c3cd730",
   "metadata": {},
   "outputs": [],
   "source": [
    "df['grades_A']=np.where(df['G3']*5 >=80,1,0)"
   ]
  },
  {
   "cell_type": "code",
   "execution_count": 28,
   "id": "cef4d0ee",
   "metadata": {},
   "outputs": [],
   "source": [
    "df['high_absenses']=np.where(df['absences'] >=10,1,0)"
   ]
  },
  {
   "cell_type": "code",
   "execution_count": 29,
   "id": "030ba20c",
   "metadata": {},
   "outputs": [],
   "source": [
    "df['count']=1"
   ]
  },
  {
   "cell_type": "code",
   "execution_count": 30,
   "id": "c020fe30",
   "metadata": {},
   "outputs": [
    {
     "data": {
      "text/html": [
       "<div>\n",
       "<style scoped>\n",
       "    .dataframe tbody tr th:only-of-type {\n",
       "        vertical-align: middle;\n",
       "    }\n",
       "\n",
       "    .dataframe tbody tr th {\n",
       "        vertical-align: top;\n",
       "    }\n",
       "\n",
       "    .dataframe thead th {\n",
       "        text-align: right;\n",
       "    }\n",
       "</style>\n",
       "<table border=\"1\" class=\"dataframe\">\n",
       "  <thead>\n",
       "    <tr style=\"text-align: right;\">\n",
       "      <th></th>\n",
       "      <th>grades_A</th>\n",
       "      <th>high_absenses</th>\n",
       "      <th>count</th>\n",
       "    </tr>\n",
       "  </thead>\n",
       "  <tbody>\n",
       "    <tr>\n",
       "      <th>0</th>\n",
       "      <td>0</td>\n",
       "      <td>0</td>\n",
       "      <td>1</td>\n",
       "    </tr>\n",
       "    <tr>\n",
       "      <th>1</th>\n",
       "      <td>0</td>\n",
       "      <td>0</td>\n",
       "      <td>1</td>\n",
       "    </tr>\n",
       "    <tr>\n",
       "      <th>2</th>\n",
       "      <td>0</td>\n",
       "      <td>1</td>\n",
       "      <td>1</td>\n",
       "    </tr>\n",
       "    <tr>\n",
       "      <th>3</th>\n",
       "      <td>0</td>\n",
       "      <td>0</td>\n",
       "      <td>1</td>\n",
       "    </tr>\n",
       "    <tr>\n",
       "      <th>4</th>\n",
       "      <td>0</td>\n",
       "      <td>0</td>\n",
       "      <td>1</td>\n",
       "    </tr>\n",
       "  </tbody>\n",
       "</table>\n",
       "</div>"
      ],
      "text/plain": [
       "   grades_A  high_absenses  count\n",
       "0         0              0      1\n",
       "1         0              0      1\n",
       "2         0              1      1\n",
       "3         0              0      1\n",
       "4         0              0      1"
      ]
     },
     "execution_count": 30,
     "metadata": {},
     "output_type": "execute_result"
    }
   ],
   "source": [
    "df=df[['grades_A','high_absenses','count']]\n",
    "df.head()"
   ]
  },
  {
   "cell_type": "code",
   "execution_count": 31,
   "id": "f1ad88f8",
   "metadata": {},
   "outputs": [
    {
     "name": "stdout",
     "output_type": "stream",
     "text": [
      "high_absenses    0   1\n",
      "grades_A              \n",
      "0              277  78\n",
      "1               35   5\n"
     ]
    }
   ],
   "source": [
    "final=pd.pivot_table(\n",
    "    df,\n",
    "    values='count',\n",
    "    index=['grades_A'],\n",
    "    columns=['high_absenses'],\n",
    "    aggfunc=np.size,\n",
    "    fill_value=0\n",
    ")\n",
    "\n",
    "\n",
    "print(final)"
   ]
  },
  {
   "cell_type": "code",
   "execution_count": 39,
   "id": "8df108df",
   "metadata": {},
   "outputs": [
    {
     "data": {
      "text/plain": [
       "0.10126582278481013"
      ]
     },
     "execution_count": 39,
     "metadata": {},
     "output_type": "execute_result"
    }
   ],
   "source": [
    "pa = ((final.iloc[1,0]+final.iloc[1,1])/(final.iloc[1,0]+final.iloc[1,1]+final.iloc[0,0]+final.iloc[0,1]))\n",
    "pa"
   ]
  },
  {
   "cell_type": "code",
   "execution_count": 40,
   "id": "415924a2",
   "metadata": {},
   "outputs": [
    {
     "data": {
      "text/plain": [
       "0.21012658227848102"
      ]
     },
     "execution_count": 40,
     "metadata": {},
     "output_type": "execute_result"
    }
   ],
   "source": [
    "pb = ((final.iloc[0,1]+final.iloc[1,1])/(final.iloc[1,0]+final.iloc[1,1]+final.iloc[0,0]+final.iloc[0,1]))\n",
    "pb"
   ]
  },
  {
   "cell_type": "code",
   "execution_count": 41,
   "id": "9a0e85c3",
   "metadata": {},
   "outputs": [
    {
     "data": {
      "text/plain": [
       "0.012658227848101266"
      ]
     },
     "execution_count": 41,
     "metadata": {},
     "output_type": "execute_result"
    }
   ],
   "source": [
    "pa_b = ((final.iloc[1,1])/(final.iloc[1,0]+final.iloc[1,1]+final.iloc[0,0]+final.iloc[0,1]))\n",
    "pa_b"
   ]
  },
  {
   "cell_type": "code",
   "execution_count": 42,
   "id": "d1d02899",
   "metadata": {},
   "outputs": [
    {
     "data": {
      "text/plain": [
       "0.060240963855421686"
      ]
     },
     "execution_count": 42,
     "metadata": {},
     "output_type": "execute_result"
    }
   ],
   "source": [
    "a_given_b=pa_b/pb\n",
    "a_given_b"
   ]
  },
  {
   "cell_type": "code",
   "execution_count": 47,
   "id": "9ca39354",
   "metadata": {},
   "outputs": [
    {
     "name": "stdout",
     "output_type": "stream",
     "text": [
      "The probability a student get an A(80% +)in maths, given they miss 10 or more classes is : 6.0\n"
     ]
    }
   ],
   "source": [
    "print('The probability a student get an A(80% +)in maths, given they miss 10 or more classes is :' ,round(a_given_b,2)*100)"
   ]
  },
  {
   "cell_type": "code",
   "execution_count": null,
   "id": "c07f15ed",
   "metadata": {},
   "outputs": [],
   "source": []
  }
 ],
 "metadata": {
  "kernelspec": {
   "display_name": "Python 3 (ipykernel)",
   "language": "python",
   "name": "python3"
  },
  "language_info": {
   "codemirror_mode": {
    "name": "ipython",
    "version": 3
   },
   "file_extension": ".py",
   "mimetype": "text/x-python",
   "name": "python",
   "nbconvert_exporter": "python",
   "pygments_lexer": "ipython3",
   "version": "3.9.7"
  }
 },
 "nbformat": 4,
 "nbformat_minor": 5
}
