{
 "cells": [
  {
   "cell_type": "markdown",
   "id": "43f2917f",
   "metadata": {},
   "source": [
    "# Bayes Law using total law of probability"
   ]
  },
  {
   "cell_type": "code",
   "execution_count": 5,
   "id": "cee186c6",
   "metadata": {},
   "outputs": [
    {
     "name": "stdout",
     "output_type": "stream",
     "text": [
      "P(A|B) = 0.339%\n"
     ]
    }
   ],
   "source": [
    "#calculate P(A|B) given P(A),P(B|A),P(B|not A)\n",
    "def bayes_theorem(p_a,p_b_given_a,p_b_given_not_a):\n",
    "    #calculate P(not A)\n",
    "    not_a = 1-p_a\n",
    "    #calculate P(B)\n",
    "    p_b=p_b_given_a*p_a+p_b_given_not_a*not_a\n",
    "    #Calculate P(A|B)\n",
    "    p_a_given_b=(p_b_given_a*p_a)/p_b\n",
    "    return p_a_given_b\n",
    "\n",
    "#P(A)\n",
    "p_a=0.0002\n",
    "#P(B|A)\n",
    "p_b_given_a=0.85\n",
    "#P(B|not A)\n",
    "p_b_given_not_a=0.05\n",
    "#Calculate P(A|B)\n",
    "result=bayes_theorem(p_a,p_b_given_a,p_b_given_not_a)\n",
    "#Summarize\n",
    "print('P(A|B) = %.3f%%'%(result*100))"
   ]
  },
  {
   "cell_type": "code",
   "execution_count": null,
   "id": "5e3f9ee9",
   "metadata": {},
   "outputs": [],
   "source": []
  }
 ],
 "metadata": {
  "kernelspec": {
   "display_name": "Python 3 (ipykernel)",
   "language": "python",
   "name": "python3"
  },
  "language_info": {
   "codemirror_mode": {
    "name": "ipython",
    "version": 3
   },
   "file_extension": ".py",
   "mimetype": "text/x-python",
   "name": "python",
   "nbconvert_exporter": "python",
   "pygments_lexer": "ipython3",
   "version": "3.9.7"
  }
 },
 "nbformat": 4,
 "nbformat_minor": 5
}
